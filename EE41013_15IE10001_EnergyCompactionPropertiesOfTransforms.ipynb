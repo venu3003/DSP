{
 "cells": [
  {
   "cell_type": "code",
   "execution_count": 1,
   "metadata": {
    "collapsed": true
   },
   "outputs": [],
   "source": [
    "import numpy as np\n",
    "import math as m\n",
    "import random\n",
    "import cmath as c\n",
    "from numpy.linalg import inv\n",
    "import matplotlib.pyplot as plt\n",
    "%matplotlib inline"
   ]
  },
  {
   "cell_type": "code",
   "execution_count": 2,
   "metadata": {
    "collapsed": true
   },
   "outputs": [],
   "source": [
    "num_of_zeros=[]\n",
    "for i in range(7):\n",
    "    num_of_zeros.append(i*10)"
   ]
  },
  {
   "cell_type": "markdown",
   "metadata": {},
   "source": [
    "## DFT & IDFT"
   ]
  },
  {
   "cell_type": "code",
   "execution_count": 3,
   "metadata": {
    "collapsed": true
   },
   "outputs": [],
   "source": [
    "def DFT(x,N):\n",
    "    W=c.exp(((-2*m.pi)/N)*1J)\n",
    "    D=[]\n",
    "    for i in range(N):\n",
    "        d=[]\n",
    "        for j in range(N):\n",
    "            d.append(W**(i*j))\n",
    "        D.append(d)\n",
    "    X=np.matmul(D,x)\n",
    "    return X"
   ]
  },
  {
   "cell_type": "code",
   "execution_count": 4,
   "metadata": {
    "collapsed": true
   },
   "outputs": [],
   "source": [
    "def IDFT(X,N):\n",
    "    W1=c.exp(((2*m.pi)/N)*1j)\n",
    "    D1=[]\n",
    "    for i in range(N):\n",
    "        d1=[]\n",
    "        for j in range(N):\n",
    "            d1.append(W1**(i*j))\n",
    "        D1.append(d1)\n",
    "    x=np.matmul(D1,X)\n",
    "    N=len(X)\n",
    "    x=np.divide(x,N)\n",
    "    return x"
   ]
  },
  {
   "cell_type": "markdown",
   "metadata": {},
   "source": [
    "## DCT & IDCT"
   ]
  },
  {
   "cell_type": "code",
   "execution_count": 5,
   "metadata": {
    "collapsed": true
   },
   "outputs": [],
   "source": [
    "def DCT(x,N):\n",
    "    D1=[]\n",
    "    for k in range(N):\n",
    "        d=[]\n",
    "        for n in range(N):\n",
    "            d.append(np.cos(((m.pi)*k*(2*n+1))/(2*N)))\n",
    "        D1.append(d)\n",
    "    X1=np.matmul(D1,x)\n",
    "    X1=np.multiply(X1,2)\n",
    "    return X1"
   ]
  },
  {
   "cell_type": "code",
   "execution_count": 6,
   "metadata": {
    "collapsed": true
   },
   "outputs": [],
   "source": [
    "def IDCT(X1,N):\n",
    "    D=[]\n",
    "    for n in range(N):\n",
    "        d=[]\n",
    "        for k in range(N):\n",
    "            d.append(np.cos(((m.pi)*k*(2*n+1))/(2*N)))\n",
    "        D.append(d)\n",
    "    X=[]\n",
    "    a=[]\n",
    "    a.append(0.5)\n",
    "    for i in range(N-1):\n",
    "        a.append(1)\n",
    "    for i in range(N):\n",
    "        X.append(X1[i]*a[i])\n",
    "    x=np.matmul(D,X)\n",
    "    x=np.divide(x,N)\n",
    "    return x"
   ]
  },
  {
   "cell_type": "markdown",
   "metadata": {},
   "source": [
    "## Haar Transform"
   ]
  },
  {
   "cell_type": "code",
   "execution_count": 7,
   "metadata": {
    "collapsed": true
   },
   "outputs": [],
   "source": [
    "def Haar_Matrix(n):\n",
    "    n = 2**np.ceil(np.log2(n))\n",
    "    if n > 2:\n",
    "        h = Haar_Matrix(n / 2)\n",
    "    else:\n",
    "        return np.array([[1, 1], [1, -1]])\n",
    "\n",
    "    h_n = np.kron(h, [1, 1])\n",
    "    h_i = np.sqrt(n/2)*np.kron(np.eye(len(h)), [1, -1])\n",
    "    h = np.vstack((h_n, h_i))\n",
    "    return h"
   ]
  },
  {
   "cell_type": "code",
   "execution_count": 8,
   "metadata": {
    "collapsed": true
   },
   "outputs": [],
   "source": [
    "def HT(N,x):\n",
    "    H=Haar_Matrix(N)\n",
    "    X=np.matmul(H,x)\n",
    "    return X"
   ]
  },
  {
   "cell_type": "code",
   "execution_count": 9,
   "metadata": {
    "collapsed": true
   },
   "outputs": [],
   "source": [
    "def IHT(N,X):\n",
    "    H=Haar_Matrix(N)\n",
    "    x=np.matmul(inv(H),X)\n",
    "    return x"
   ]
  },
  {
   "cell_type": "code",
   "execution_count": 10,
   "metadata": {
    "collapsed": true
   },
   "outputs": [],
   "source": [
    "#For DFT\n",
    "def X_DFT(X,k):\n",
    "    Xnew=[]\n",
    "    N=len(list(X))\n",
    "    for i in range(N):\n",
    "        if i<=int((N-1-k)/2):\n",
    "            Xnew.append(X[i])\n",
    "        elif i>=int((N+1-k)/2) and i<=int((N-1+k)/2):\n",
    "            Xnew.append(0)\n",
    "        elif i>=int((N+1+k)/2) and i<=N-1:\n",
    "            Xnew.append(X[i])\n",
    "    return Xnew"
   ]
  },
  {
   "cell_type": "code",
   "execution_count": 11,
   "metadata": {
    "collapsed": true
   },
   "outputs": [],
   "source": [
    "#For DCT\n",
    "def X_DCT(X,k):\n",
    "    Xnew=[]\n",
    "    N=len(X) \n",
    "    for i in range(N):\n",
    "        if i<=(N-1-k):\n",
    "            Xnew.append(X[i])\n",
    "        else:\n",
    "            Xnew.append(0)\n",
    "    return Xnew"
   ]
  },
  {
   "cell_type": "code",
   "execution_count": 12,
   "metadata": {
    "collapsed": true
   },
   "outputs": [],
   "source": [
    "#For Haar\n",
    "def X_Haar(X,k):\n",
    "    N=len(list(X))\n",
    "    Xnew=[]\n",
    "    for i in range(N):\n",
    "        if i<=(N-1-k):\n",
    "            Xnew.append(X[i])\n",
    "        else:\n",
    "            Xnew.append(0)\n",
    "    return Xnew"
   ]
  },
  {
   "cell_type": "code",
   "execution_count": 13,
   "metadata": {
    "collapsed": true
   },
   "outputs": [],
   "source": [
    "def Error(x,y):\n",
    "    x=np.array(x)\n",
    "    y=np.array(y)\n",
    "    error=np.mean(abs(x-y)**2)\n",
    "    return error"
   ]
  },
  {
   "cell_type": "code",
   "execution_count": 14,
   "metadata": {},
   "outputs": [],
   "source": [
    "N=64\n",
    "E1=[]\n",
    "E2=[]\n",
    "E3=[]\n",
    "x=[]\n",
    "for i in range(N):\n",
    "    x.append(random.uniform(0,1)) \n",
    "\n",
    "Z=5\n",
    "for i in range(7):\n",
    "    X1=DFT(x,N)\n",
    "    e=0\n",
    "    for z in range(Z):\n",
    "        k=num_of_zeros[i]\n",
    "        x_DFT=X_DFT(list(X1),k)\n",
    "        x1=IDFT(x_DFT,N)\n",
    "        e+=Error(x,x1)\n",
    "    E1.append(e/Z)\n",
    "\n",
    "    X2=DCT(x,N)\n",
    "    e=0\n",
    "    for z in range(Z):\n",
    "        k=num_of_zeros[i]\n",
    "        x_DCT=X_DCT(list(X2),k)\n",
    "        x2=IDCT(x_DCT,N)\n",
    "        e+=Error(x,x2)\n",
    "    E2.append(e/Z)\n",
    "\n",
    "    X3=HT(N,x)\n",
    "    e=0\n",
    "    for z in range(Z):\n",
    "        k=num_of_zeros[i]\n",
    "        x_Haar=X_Haar(list(X3),k)\n",
    "        x3=IHT(N,x_Haar)\n",
    "        e+=Error(x,x3)\n",
    "    E3.append(e/Z)"
   ]
  },
  {
   "cell_type": "code",
   "execution_count": 15,
   "metadata": {},
   "outputs": [
    {
     "data": {
      "text/plain": [
       "[<matplotlib.lines.Line2D at 0x25521b80c50>]"
      ]
     },
     "execution_count": 15,
     "metadata": {},
     "output_type": "execute_result"
    },
    {
     "data": {
      "image/png": "[encoded data removed]",
      "text/plain": [
       "<matplotlib.figure.Figure at 0x255218c50f0>"
      ]
     },
     "metadata": {},
     "output_type": "display_data"
    }
   ],
   "source": [
    "plt.plot(num_of_zeros,E1,'-b')\n",
    "plt.plot(num_of_zeros,E2,'-r')\n",
    "plt.plot(num_of_zeros,E3,'-g')"
   ]
  },
  {
   "cell_type": "code",
   "execution_count": null,
   "metadata": {
    "collapsed": true
   },
   "outputs": [],
   "source": []
  }
 ],
 "metadata": {
  "kernelspec": {
   "display_name": "Python 3",
   "language": "python",
   "name": "python3"
  },
  "language_info": {
   "codemirror_mode": {
    "name": "ipython",
    "version": 3
   },
   "file_extension": ".py",
   "mimetype": "text/x-python",
   "name": "python",
   "nbconvert_exporter": "python",
   "pygments_lexer": "ipython3",
   "version": "3.6.3"
  }
 },
 "nbformat": 4,
 "nbformat_minor": 2
}
