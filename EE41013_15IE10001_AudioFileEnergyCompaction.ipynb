{
 "cells": [
  {
   "cell_type": "code",
   "execution_count": 1,
   "metadata": {
    "collapsed": true
   },
   "outputs": [],
   "source": [
    "import math \n",
    "import cmath\n",
    "import matplotlib.pyplot as plt\n",
    "%matplotlib inline\n",
    "import random\n",
    "import numpy as np\n",
    "import time\n",
    "import scipy\n",
    "from scipy.io import wavfile\n",
    "import pywt\n",
    "from scipy.fftpack import fft,ifft,dct,idct"
   ]
  },
  {
   "cell_type": "code",
   "execution_count": 2,
   "metadata": {},
   "outputs": [
    {
     "data": {
      "text/plain": [
       "91392"
      ]
     },
     "execution_count": 2,
     "metadata": {},
     "output_type": "execute_result"
    }
   ],
   "source": [
    "rate, x = wavfile.read('audio.wav')\n",
    "len(x)"
   ]
  },
  {
   "cell_type": "code",
   "execution_count": 3,
   "metadata": {
    "collapsed": true
   },
   "outputs": [],
   "source": [
    "No_of_zeros=[]\n",
    "for i in range(327):\n",
    "    No_of_zeros.append(100*i)\n"
   ]
  },
  {
   "cell_type": "code",
   "execution_count": 4,
   "metadata": {
    "collapsed": true
   },
   "outputs": [],
   "source": [
    "Sig=[]\n",
    "for i in range(32768):\n",
    "    Sig.append(x[i])"
   ]
  },
  {
   "cell_type": "markdown",
   "metadata": {},
   "source": [
    "#### Generalised error function"
   ]
  },
  {
   "cell_type": "code",
   "execution_count": 5,
   "metadata": {
    "collapsed": true
   },
   "outputs": [],
   "source": [
    "def Error(x,y):\n",
    "    x=np.array(x)\n",
    "    y=np.array(y)\n",
    "    error=np.mean(abs(x-y)**2)\n",
    "    return error"
   ]
  },
  {
   "cell_type": "markdown",
   "metadata": {},
   "source": [
    "### Discrete Cosine Tranform"
   ]
  },
  {
   "cell_type": "code",
   "execution_count": 6,
   "metadata": {
    "collapsed": true
   },
   "outputs": [],
   "source": [
    "def X_DCT(X,k):\n",
    "    Xnew=[]\n",
    "    N=len(X)\n",
    "    for i in range(N):\n",
    "        if i<=(N-1-k):\n",
    "            Xnew.append(X[i])\n",
    "        else:\n",
    "            Xnew.append(0)\n",
    "    return Xnew"
   ]
  },
  {
   "cell_type": "code",
   "execution_count": 7,
   "metadata": {
    "collapsed": true
   },
   "outputs": [],
   "source": [
    "C=dct(Sig)\n",
    "E_DCT=[]\n",
    "for i in range(327):\n",
    "    X_DCt=X_DCT(C,No_of_zeros[i])\n",
    "    X_DCt=X_DCT(C,No_of_zeros[i])\n",
    "    x=idct(X_DCt)/(2*rate)\n",
    "    k=Error(Sig,x)\n",
    "    E_DCT.append(k)"
   ]
  },
  {
   "cell_type": "markdown",
   "metadata": {},
   "source": [
    "### Discrete Fourier Transform"
   ]
  },
  {
   "cell_type": "code",
   "execution_count": 8,
   "metadata": {
    "collapsed": true
   },
   "outputs": [],
   "source": [
    "def X_DFT(X,k):\n",
    "    Xnew=[]\n",
    "    N=len(list(X))\n",
    "    for i in range(N):\n",
    "        if i<=int((N-1-k)/2):\n",
    "            Xnew.append(X[i])\n",
    "        elif i>=int((N+1-k)/2) and i<=int((N-1+k)/2):\n",
    "            Xnew.append(0)\n",
    "        elif i>=int((N+1+k)/2) and i<=N-1:\n",
    "            Xnew.append(X[i])\n",
    "    return Xnew"
   ]
  },
  {
   "cell_type": "code",
   "execution_count": 9,
   "metadata": {
    "collapsed": true
   },
   "outputs": [],
   "source": [
    "D=fft(Sig)\n",
    "E_DFT=[]\n",
    "for i in range(327):\n",
    "    X_DFt=X_DFT(D,No_of_zeros[i])\n",
    "    x=ifft(X_DFt)\n",
    "    k=Error(Sig,x)\n",
    "    E_DFT.append(k)"
   ]
  },
  {
   "cell_type": "markdown",
   "metadata": {},
   "source": [
    "### Haar  Tranform"
   ]
  },
  {
   "cell_type": "code",
   "execution_count": 10,
   "metadata": {
    "collapsed": true
   },
   "outputs": [],
   "source": [
    "def haar(x):\n",
    "    out = []\n",
    "    (ca, cd) = pywt.dwt(x,'haar')\n",
    "    out = list(cd)+out\n",
    "    while len(ca)!=1:\n",
    "        (ca, cd) = pywt.dwt(ca,'haar')\n",
    "        out = list(cd)+out\n",
    "    out = list(ca)+out\n",
    "    return out"
   ]
  },
  {
   "cell_type": "code",
   "execution_count": 11,
   "metadata": {
    "collapsed": true
   },
   "outputs": [],
   "source": [
    "def ihaar(x):\n",
    "    N = len(x)\n",
    "    i = 0\n",
    "    x[:2] = pywt.idwt([x[0]], [x[1]],'haar')\n",
    "    i = 2\n",
    "    while 2*i<N+1:\n",
    "        try:\n",
    "            x[:2*i] = pywt.idwt(x[:i],x[i:2*i],'haar')\n",
    "        except:\n",
    "            print(i)\n",
    "            return\n",
    "        i = 2*i\n",
    "    return x"
   ]
  },
  {
   "cell_type": "code",
   "execution_count": 12,
   "metadata": {
    "collapsed": true
   },
   "outputs": [],
   "source": [
    "def X_Haar(X,k):\n",
    "    N=len(list(X))\n",
    "    Xnew=[]\n",
    "    for i in range(N):\n",
    "        if i<=(N-1-k):\n",
    "            Xnew.append(X[i])\n",
    "        else:\n",
    "            Xnew.append(0)\n",
    "    return Xnew"
   ]
  },
  {
   "cell_type": "code",
   "execution_count": 13,
   "metadata": {
    "collapsed": true
   },
   "outputs": [],
   "source": [
    "H=haar(Sig)\n",
    "E_Haar=[]\n",
    "for i in range(327):\n",
    "    X_Haar=X_DCT(H,No_of_zeros[i])\n",
    "    x=ihaar(X_Haar)\n",
    "    k=Error(Sig,x)\n",
    "    E_Haar.append(k)"
   ]
  },
  {
   "cell_type": "code",
   "execution_count": 14,
   "metadata": {
    "collapsed": true
   },
   "outputs": [],
   "source": [
    "T=[]\n",
    "for i in range(327):\n",
    "    T.append((32768-(i*100))/32768)\n",
    "T.reverse()"
   ]
  },
  {
   "cell_type": "code",
   "execution_count": 15,
   "metadata": {},
   "outputs": [
    {
     "data": {
      "text/plain": [
       "[<matplotlib.lines.Line2D at 0x268d1398d30>]"
      ]
     },
     "execution_count": 15,
     "metadata": {},
     "output_type": "execute_result"
    },
    {
     "data": {
      "image/png": "[encoded data removed]",
      "text/plain": [
       "<matplotlib.figure.Figure at 0x268d1427240>"
      ]
     },
     "metadata": {},
     "output_type": "display_data"
    }
   ],
   "source": [
    "plt.plot(No_of_zeros,E_DCT,'-b')\n",
    "plt.plot(No_of_zeros,E_DFT,'-r')\n",
    "plt.plot(No_of_zeros,E_Haar,'-g')"
   ]
  },
  {
   "cell_type": "code",
   "execution_count": null,
   "metadata": {
    "collapsed": true
   },
   "outputs": [],
   "source": []
  }
 ],
 "metadata": {
  "kernelspec": {
   "display_name": "Python 3",
   "language": "python",
   "name": "python3"
  },
  "language_info": {
   "codemirror_mode": {
    "name": "ipython",
    "version": 3
   },
   "file_extension": ".py",
   "mimetype": "text/x-python",
   "name": "python",
   "nbconvert_exporter": "python",
   "pygments_lexer": "ipython3",
   "version": "3.6.3"
  }
 },
 "nbformat": 4,
 "nbformat_minor": 2
}
