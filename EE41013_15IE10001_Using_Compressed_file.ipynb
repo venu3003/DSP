{
 "cells": [
  {
   "cell_type": "code",
   "execution_count": 1,
   "metadata": {
    "collapsed": true
   },
   "outputs": [],
   "source": [
    "import numpy as np\n",
    "import matplotlib.pyplot as plt\n",
    "%matplotlib inline\n",
    "import scipy\n",
    "from scipy.io import wavfile\n",
    "from scipy.fftpack import fft,ifft,dct,idct\n",
    "import pywt"
   ]
  },
  {
   "cell_type": "code",
   "execution_count": 2,
   "metadata": {},
   "outputs": [],
   "source": [
    "No_of_zeros=2000\n",
    "N=65536\n",
    "Sig=[]\n",
    "rate, x = wavfile.read('audio.wav')\n",
    "for i in range(N):\n",
    "    Sig.append(x[i])\n",
    "Sig=np.array(Sig)"
   ]
  },
  {
   "cell_type": "markdown",
   "metadata": {
    "collapsed": true
   },
   "source": [
    "### Discrete Cosine Transform"
   ]
  },
  {
   "cell_type": "code",
   "execution_count": 3,
   "metadata": {
    "collapsed": true
   },
   "outputs": [],
   "source": [
    "C=np.array(dct(Sig))\n",
    "scipy.io.wavfile.write(('dct.wav'),rate,C.astype(Sig.dtype))"
   ]
  },
  {
   "cell_type": "code",
   "execution_count": 4,
   "metadata": {
    "collapsed": true
   },
   "outputs": [],
   "source": [
    "def energy_compact_DCT(C,No_of_zeros):\n",
    "    N=len(C)\n",
    "    X_ec_dct=[]\n",
    "    for i in range(N):\n",
    "        if i<=(N-1-No_of_zeros):\n",
    "            X_ec_dct.append(C[i])\n",
    "    return X_ec_dct"
   ]
  },
  {
   "cell_type": "code",
   "execution_count": 5,
   "metadata": {
    "collapsed": true
   },
   "outputs": [],
   "source": [
    "def energy_decompact_DCT(N,No_of_zeros):\n",
    "    r1, a = wavfile.read('compactdct.wav')\n",
    "    X1=[]\n",
    "    for i in range(N-No_of_zeros):\n",
    "        X1.append(a[i])\n",
    "    X_edc=[]\n",
    "    for i in range(N):\n",
    "        if i<=(N-1-No_of_zeros):\n",
    "            X_edc.append(X1[i])\n",
    "        else:\n",
    "            X_edc.append(0)\n",
    "    return X_edc"
   ]
  },
  {
   "cell_type": "code",
   "execution_count": 6,
   "metadata": {
    "collapsed": true
   },
   "outputs": [],
   "source": [
    "X_ec_dct=energy_compact_DCT(C,No_of_zeros)\n",
    "X_ec_dct=np.array(X_ec_dct)\n",
    "scipy.io.wavfile.write(('compactdct.wav'),rate,X_ec_dct.astype(Sig.dtype))"
   ]
  },
  {
   "cell_type": "code",
   "execution_count": 7,
   "metadata": {
    "collapsed": true
   },
   "outputs": [],
   "source": [
    "X_edc=energy_decompact_DCT(N,No_of_zeros)\n",
    "x_edc=idct(X_edc)/(2*rate)\n",
    "x_edc=np.array(x_edc)\n",
    "scipy.io.wavfile.write(('resultdct.wav'),rate,x_edc.astype(Sig.dtype))"
   ]
  },
  {
   "cell_type": "markdown",
   "metadata": {},
   "source": [
    "### Discrete Fourier Transform"
   ]
  },
  {
   "cell_type": "code",
   "execution_count": 8,
   "metadata": {},
   "outputs": [
    {
     "name": "stderr",
     "output_type": "stream",
     "text": [
      "C:\\Anaconda\\lib\\site-packages\\ipykernel_launcher.py:4: ComplexWarning: Casting complex values to real discards the imaginary part\n",
      "  after removing the cwd from sys.path.\n"
     ]
    }
   ],
   "source": [
    "D=fft(Sig)\n",
    "D=np.array(D)\n",
    "r=np.array(Sig)\n",
    "scipy.io.wavfile.write(('dft.wav'),rate,D.astype(Sig.dtype))"
   ]
  },
  {
   "cell_type": "code",
   "execution_count": 9,
   "metadata": {
    "collapsed": true
   },
   "outputs": [],
   "source": [
    "def energy_compact_DFT(X,No_of_zeros):\n",
    "    X_ec_dft=[]\n",
    "    N=len(X)\n",
    "    for i in range(N):\n",
    "        if i<=int((N-1-No_of_zeros)/2):\n",
    "            X_ec_dft.append(X[i])\n",
    "        elif i>=int((N+1+No_of_zeros)/2) and i<=N-1:\n",
    "            X_ec_dft.append(X[i])\n",
    "    return X_ec_dft"
   ]
  },
  {
   "cell_type": "code",
   "execution_count": 10,
   "metadata": {
    "collapsed": true
   },
   "outputs": [],
   "source": [
    "def energy_decompact_DFT(N):\n",
    "    r1, a = wavfile.read('compactdft.wav')\n",
    "    X1=[]\n",
    "    for i in range(N-No_of_zeros):\n",
    "        X1.append(a[i])\n",
    "    X_edc=[]\n",
    "    for i in range(N):\n",
    "        if i<=int((N-1-No_of_zeros)/2):\n",
    "            X_edc.append(X1[i])\n",
    "        elif i>=int((N+1-No_of_zeros)/2) and i<=int((N-1+No_of_zeros)/2):\n",
    "            X_edc.append(0)\n",
    "        elif i>=int((N+1+No_of_zeros)/2) and i<=N-1:\n",
    "            p=i-No_of_zeros\n",
    "            X_edc.append(X1[p])\n",
    "    return X_edc"
   ]
  },
  {
   "cell_type": "code",
   "execution_count": 11,
   "metadata": {},
   "outputs": [
    {
     "name": "stderr",
     "output_type": "stream",
     "text": [
      "C:\\Anaconda\\lib\\site-packages\\ipykernel_launcher.py:3: ComplexWarning: Casting complex values to real discards the imaginary part\n",
      "  This is separate from the ipykernel package so we can avoid doing imports until\n"
     ]
    }
   ],
   "source": [
    "X_ec_dft=energy_compact_DFT(D,No_of_zeros)\n",
    "X_ec_dft=np.array(X_ec_dft)\n",
    "scipy.io.wavfile.write(('compactdft.wav'),rate,X_ec_dft.astype(Sig.dtype))"
   ]
  },
  {
   "cell_type": "code",
   "execution_count": 12,
   "metadata": {},
   "outputs": [
    {
     "name": "stderr",
     "output_type": "stream",
     "text": [
      "C:\\Anaconda\\lib\\site-packages\\ipykernel_launcher.py:4: ComplexWarning: Casting complex values to real discards the imaginary part\n",
      "  after removing the cwd from sys.path.\n"
     ]
    }
   ],
   "source": [
    "X_edc=energy_decompact_DFT(N)\n",
    "x_edc=ifft(X_edc)\n",
    "x_edc=np.array(x_edc)\n",
    "scipy.io.wavfile.write(('resultdft.wav'),rate,x_edc.astype(Sig.dtype))"
   ]
  },
  {
   "cell_type": "markdown",
   "metadata": {},
   "source": [
    "### Haar Transform"
   ]
  },
  {
   "cell_type": "code",
   "execution_count": 13,
   "metadata": {
    "collapsed": true
   },
   "outputs": [],
   "source": [
    "def haar(x):\n",
    "    out = []\n",
    "    (ca, cd) = pywt.dwt(x,'haar')\n",
    "    out = list(cd)+out\n",
    "    while len(ca)!=1:\n",
    "        (ca, cd) = pywt.dwt(ca,'haar')\n",
    "        out = list(cd)+out\n",
    "    out = list(ca)+out\n",
    "    return out"
   ]
  },
  {
   "cell_type": "code",
   "execution_count": 14,
   "metadata": {
    "collapsed": true
   },
   "outputs": [],
   "source": [
    "def ihaar(x):\n",
    "    N = len(x)\n",
    "    i = 0\n",
    "    x[:2] = pywt.idwt([x[0]], [x[1]],'haar')\n",
    "    i = 2\n",
    "    while 2*i<N+1:\n",
    "        try:\n",
    "            x[:2*i] = pywt.idwt(x[:i],x[i:2*i],'haar')\n",
    "        except:\n",
    "            print(i)\n",
    "            return\n",
    "        i = 2*i\n",
    "    return x"
   ]
  },
  {
   "cell_type": "code",
   "execution_count": 15,
   "metadata": {
    "collapsed": true
   },
   "outputs": [],
   "source": [
    "H=haar(Sig)\n",
    "H=np.array(H)\n",
    "scipy.io.wavfile.write(('haar.wav'),rate,H.astype(Sig.dtype))"
   ]
  },
  {
   "cell_type": "code",
   "execution_count": 16,
   "metadata": {
    "collapsed": true
   },
   "outputs": [],
   "source": [
    "def energy_compact_haar(H,No_of_zeros):\n",
    "    N=len(C)\n",
    "    X_ec=[]\n",
    "    for i in range(N):\n",
    "        if i<=(N-1-No_of_zeros):\n",
    "            X_ec.append(C[i])\n",
    "    return X_ec"
   ]
  },
  {
   "cell_type": "code",
   "execution_count": 17,
   "metadata": {
    "collapsed": true
   },
   "outputs": [],
   "source": [
    "def energy_decompact_haar(N,No_of_zeros):\n",
    "    r1, a = wavfile.read('compacthaar.wav')\n",
    "    X1=[]\n",
    "    for i in range(N-No_of_zeros):\n",
    "        X1.append(a[i])\n",
    "    X_edc=[]\n",
    "    for i in range(N):\n",
    "        if i<=(N-1-No_of_zeros):\n",
    "            X_edc.append(X1[i])\n",
    "        else:\n",
    "            X_edc.append(0)\n",
    "    return X_edc"
   ]
  },
  {
   "cell_type": "code",
   "execution_count": 18,
   "metadata": {
    "collapsed": true
   },
   "outputs": [],
   "source": [
    "X_ec=energy_compact_haar(H,No_of_zeros)\n",
    "X_ec=np.array(X_ec)\n",
    "scipy.io.wavfile.write(('compacthaar.wav'),rate,X_ec.astype(Sig.dtype))"
   ]
  },
  {
   "cell_type": "code",
   "execution_count": 19,
   "metadata": {
    "collapsed": true
   },
   "outputs": [],
   "source": [
    "X_edc=energy_decompact_haar(N,No_of_zeros)\n",
    "x_edc=ihaar(X_edc)\n",
    "x_edc=np.array(x_edc)\n",
    "scipy.io.wavfile.write(('resulthaar.wav'),rate,x_edc.astype(Sig.dtype))"
   ]
  },
  {
   "cell_type": "code",
   "execution_count": null,
   "metadata": {
    "collapsed": true
   },
   "outputs": [],
   "source": []
  }
 ],
 "metadata": {
  "kernelspec": {
   "display_name": "Python 3",
   "language": "python",
   "name": "python3"
  },
  "language_info": {
   "codemirror_mode": {
    "name": "ipython",
    "version": 3
   },
   "file_extension": ".py",
   "mimetype": "text/x-python",
   "name": "python",
   "nbconvert_exporter": "python",
   "pygments_lexer": "ipython3",
   "version": "3.6.3"
  }
 },
 "nbformat": 4,
 "nbformat_minor": 2
}
